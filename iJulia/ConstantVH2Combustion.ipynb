{
 "cells": [
  {
   "cell_type": "code",
   "execution_count": null,
   "metadata": {},
   "outputs": [],
   "source": [
    "using DifferentialEquations\n",
    "using PyPlot"
   ]
  },
  {
   "cell_type": "code",
   "execution_count": null,
   "metadata": {
    "scrolled": false
   },
   "outputs": [],
   "source": [
    "cd(\"../rms\")\n",
    "include(\"Parse.jl\")\n",
    "include(\"Reactor.jl\")"
   ]
  },
  {
   "cell_type": "code",
   "execution_count": null,
   "metadata": {},
   "outputs": [],
   "source": [
    "phaseDict = readinput(\"testing/superminimal.yml\") #load mechanism dictionary"
   ]
  },
  {
   "cell_type": "code",
   "execution_count": null,
   "metadata": {},
   "outputs": [],
   "source": [
    "spcs = phaseDict[\"gas\"][\"Species\"]; #mechanism dictionaries index:  phaseDict[phasename][\"Species\" or \"Reactions\"]\n",
    "rxns = phaseDict[\"gas\"][\"Reactions\"];"
   ]
  },
  {
   "cell_type": "code",
   "execution_count": null,
   "metadata": {},
   "outputs": [],
   "source": [
    "ig = IdealGas(spcs,rxns,name=\"gas\") #Define the phase (how species thermodynamic and kinetic properties calculated)\n",
    "initialconds = Dict([\"T\"=>1000.0,\"P\"=>10.0e5,\"H2\"=>0.67,\"O2\"=>0.33]) #Set simulation Initial Temp and Pressure\n",
    "state = MolarState(initialconds,ig) #Define the initial state of the system\n",
    "domain = ConstantVDomain(state=state,phase=ig) #Define the domain (encodes how system thermodynamic properties calculated)"
   ]
  },
  {
   "cell_type": "code",
   "execution_count": null,
   "metadata": {},
   "outputs": [],
   "source": [
    "react = BatchSingleDomainReactor(domain,(0.0,0.101)); #Create the reactor object"
   ]
  },
  {
   "cell_type": "code",
   "execution_count": null,
   "metadata": {
    "scrolled": true
   },
   "outputs": [],
   "source": [
    "sol = solve(react.ode,CVODE_BDF(),abstol=1e-20,reltol=1e-12); #solve the ode associated with the reactor"
   ]
  },
  {
   "cell_type": "code",
   "execution_count": null,
   "metadata": {},
   "outputs": [],
   "source": [
    "ts = exp.(range(log(1e-15),length=10000,stop=log(0.1)))\n",
    "xs = [sol(t)[1:end-1]./sum(sol(t)[1:end-1]) for t in ts]\n",
    "xmat = hcat(xs...)\n",
    "maxes = [maximum(xmat[i,:]) for i = 1:size(xmat)[1]]\n",
    "thresh = 1e-9\n",
    "spnames = []\n",
    "for i = 1:length(maxes)\n",
    "    if maxes[i] > thresh\n",
    "        plot(ts,xmat[i,:])\n",
    "        push!(spnames,ig.species[i].name)\n",
    "    end\n",
    "end\n",
    "legend(spnames)"
   ]
  },
  {
   "cell_type": "code",
   "execution_count": null,
   "metadata": {},
   "outputs": [],
   "source": [
    "plot(ts,[sol(t)[end] for t in ts]) #Temperature vs time"
   ]
  },
  {
   "cell_type": "code",
   "execution_count": null,
   "metadata": {},
   "outputs": [],
   "source": [
    "ts[argmax(diff([sol(t)[end] for t in ts]))] #Ignition Delay Time in seconds"
   ]
  },
  {
   "cell_type": "code",
   "execution_count": null,
   "metadata": {},
   "outputs": [],
   "source": []
  }
 ],
 "metadata": {
  "kernelspec": {
   "display_name": "Julia 1.0.0",
   "language": "julia",
   "name": "julia-1.0"
  },
  "language_info": {
   "file_extension": ".jl",
   "mimetype": "application/julia",
   "name": "julia",
   "version": "1.0.0"
  }
 },
 "nbformat": 4,
 "nbformat_minor": 2
}
