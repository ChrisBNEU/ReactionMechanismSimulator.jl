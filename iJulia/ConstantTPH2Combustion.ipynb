{
 "cells": [
  {
   "cell_type": "code",
   "execution_count": null,
   "metadata": {},
   "outputs": [],
   "source": [
    "using DifferentialEquations\n",
    "using PyPlot"
   ]
  },
  {
   "cell_type": "code",
   "execution_count": null,
   "metadata": {
    "scrolled": false
   },
   "outputs": [],
   "source": [
    "cd(\"../rms\")\n",
    "include(\"Parse.jl\")\n",
    "include(\"Reactor.jl\")"
   ]
  },
  {
   "cell_type": "code",
   "execution_count": null,
   "metadata": {},
   "outputs": [],
   "source": [
    "phaseDict = readinput(\"testing/superminimal.yml\") #load mechanism dictionary\n",
    "spcs = phaseDict[\"gas\"][\"Species\"] #mechanism dictionaries index:  phaseDict[phasename][\"Species\" or \"Reactions\"]\n",
    "rxns = phaseDict[\"gas\"][\"Reactions\"]"
   ]
  },
  {
   "cell_type": "code",
   "execution_count": null,
   "metadata": {},
   "outputs": [],
   "source": [
    "ig = IdealGas(spcs,rxns,name=\"gas\") #Define the phase (how species thermodynamic and kinetic properties calculated)\n",
    "initialconds = Dict([\"T\"=>1000.0,\"P\"=>1e5,\"H2\"=>0.67,\"O2\"=>0.33]) #Set simulation Initial Temp and Pressure\n",
    "state = MolarState(initialconds,ig) #Define the initial state of the system\n",
    "domain = ConstantTPDomain(state=state,phase=ig) #Define the domain (encodes how system thermodynamic properties calculated)"
   ]
  },
  {
   "cell_type": "code",
   "execution_count": null,
   "metadata": {
    "scrolled": true
   },
   "outputs": [],
   "source": [
    "react = BatchSingleDomainReactor(domain,(0.0,141.0)) #Create the reactor object\n",
    "sol = solve(react.ode,CVODE_BDF(),abstol=1e-20,reltol=1e-12) #solve the ode associated with the reactor"
   ]
  },
  {
   "cell_type": "code",
   "execution_count": null,
   "metadata": {},
   "outputs": [],
   "source": [
    "ts = exp.(range(log(1e-15),length=1000,stop=log(140.0))) #logspace for Julia\n",
    "plot(ts,[sol(t)./sum(sol(t)) for t in ts]) #plot mole fractions of all species\n",
    "legend([sp.name for sp in ig.species])"
   ]
  },
  {
   "cell_type": "code",
   "execution_count": null,
   "metadata": {},
   "outputs": [],
   "source": []
  }
 ],
 "metadata": {
  "kernelspec": {
   "display_name": "Julia 1.0.0",
   "language": "julia",
   "name": "julia-1.0"
  },
  "language_info": {
   "file_extension": ".jl",
   "mimetype": "application/julia",
   "name": "julia",
   "version": "1.0.0"
  }
 },
 "nbformat": 4,
 "nbformat_minor": 2
}
