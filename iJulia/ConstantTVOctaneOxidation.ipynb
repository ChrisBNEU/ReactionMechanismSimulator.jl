{
 "cells": [
  {
   "cell_type": "code",
   "execution_count": null,
   "metadata": {},
   "outputs": [],
   "source": [
    "using DifferentialEquations\n",
    "using PyPlot"
   ]
  },
  {
   "cell_type": "code",
   "execution_count": null,
   "metadata": {
    "scrolled": false
   },
   "outputs": [],
   "source": [
    "cd(\"../rms\")\n",
    "include(\"Parse.jl\")\n",
    "include(\"Reactor.jl\")"
   ]
  },
  {
   "cell_type": "code",
   "execution_count": null,
   "metadata": {},
   "outputs": [],
   "source": [
    "phaseDict = readinput(\"testing/liquid_phase.yml\") #load mechanism dictionary"
   ]
  },
  {
   "cell_type": "code",
   "execution_count": null,
   "metadata": {},
   "outputs": [],
   "source": [
    "spcs = phaseDict[\"phase\"][\"Species\"]; #mechanism dictionaries index:  phaseDict[phasename][\"Species\" or \"Reactions\"]\n",
    "rxns = phaseDict[\"phase\"][\"Reactions\"];"
   ]
  },
  {
   "cell_type": "code",
   "execution_count": null,
   "metadata": {},
   "outputs": [],
   "source": [
    "solv = Solvent(\"octane\",RiedelViscosity(-98.805,3905.5,14.103,-2.5112e-5,2.0))"
   ]
  },
  {
   "cell_type": "code",
   "execution_count": null,
   "metadata": {},
   "outputs": [],
   "source": [
    "liq = IdealDiluteSolution(spcs,rxns,solv;name=\"phase\",diffusionlimited=true) #Define the phase (how species thermodynamic and kinetic properties calculated)\n",
    "initialconds = Dict([\"T\"=>450.0,\"P\"=>1e5,\"V\"=>1.0e-6*1e6,\"octane\"=>6.154e-3*1e6,\"oxygen\"=>4.953e-6*1e6]) #Set simulation Initial Temp and Pressure\n",
    "state = MolarState(initialconds,liq) #Define the initial state of the system\n",
    "domain = ConstantTVDomain(state=state,phase=liq,constantspecies=[\"oxygen\"]) #Define the domain (encodes how system thermodynamic properties calculated)"
   ]
  },
  {
   "cell_type": "code",
   "execution_count": null,
   "metadata": {},
   "outputs": [],
   "source": [
    "react = BatchSingleDomainReactor(domain,(0.0,140000.01)) #Create the reactor object"
   ]
  },
  {
   "cell_type": "code",
   "execution_count": null,
   "metadata": {
    "scrolled": true
   },
   "outputs": [],
   "source": [
    "sol = solve(react.ode,CVODE_BDF(),abstol=1e-20,reltol=1e-8); #solve the ode associated with the reactor"
   ]
  },
  {
   "cell_type": "code",
   "execution_count": null,
   "metadata": {},
   "outputs": [],
   "source": [
    "ts = exp.(range(log(1e-15),length=1000,stop=log(140000.0)))\n",
    "xs = [sol(t)./sum(sol(t)) for t in ts]\n",
    "xmat = hcat(xs...)\n",
    "maxes = [maximum(xmat[i,:]) for i = 1:size(xmat)[1]]\n",
    "thresh = 0.01\n",
    "spnames = []\n",
    "for i = 1:length(maxes)\n",
    "    if maxes[i] > thresh\n",
    "        plot(ts,xmat[i,:])\n",
    "        push!(spnames,liq.species[i].name)\n",
    "    end\n",
    "end\n",
    "legend(spnames)"
   ]
  },
  {
   "cell_type": "code",
   "execution_count": null,
   "metadata": {},
   "outputs": [],
   "source": []
  }
 ],
 "metadata": {
  "kernelspec": {
   "display_name": "Julia 1.0.0",
   "language": "julia",
   "name": "julia-1.0"
  },
  "language_info": {
   "file_extension": ".jl",
   "mimetype": "application/julia",
   "name": "julia",
   "version": "1.0.0"
  }
 },
 "nbformat": 4,
 "nbformat_minor": 2
}
